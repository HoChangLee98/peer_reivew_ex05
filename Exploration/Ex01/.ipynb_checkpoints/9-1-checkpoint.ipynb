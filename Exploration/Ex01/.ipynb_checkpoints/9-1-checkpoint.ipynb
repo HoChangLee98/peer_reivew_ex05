{
 "cells": [
  {
   "cell_type": "markdown",
   "id": "053b453c",
   "metadata": {},
   "source": [
    "# 9-1. 프로젝트 1 : 선형회귀, 당뇨병 수치 예측 모델"
   ]
  },
  {
   "cell_type": "code",
   "execution_count": 1,
   "id": "1677b626",
   "metadata": {},
   "outputs": [],
   "source": [
    "from sklearn.datasets import load_diabetes\n",
    "import numpy as np\n",
    "from sklearn.model_selection import train_test_split\n"
   ]
  },
  {
   "cell_type": "markdown",
   "id": "a1e70861",
   "metadata": {},
   "source": [
    "## (1) data 가져오기"
   ]
  },
  {
   "cell_type": "code",
   "execution_count": 2,
   "id": "0532fc54",
   "metadata": {},
   "outputs": [],
   "source": [
    "diabetes = load_diabetes()"
   ]
  },
  {
   "cell_type": "code",
   "execution_count": 3,
   "id": "6b0c16ce",
   "metadata": {},
   "outputs": [],
   "source": [
    "# data와 target 받아오기\n",
    "\n",
    "# 데이터 탐색용 코드\n",
    "x_data = diabetes.data\n",
    "y_data = diabetes.target\n",
    "\n",
    "# 과제 제출용 코드\n",
    "df_X = diabetes.data\n",
    "df_y = diabetes.target"
   ]
  },
  {
   "cell_type": "code",
   "execution_count": 4,
   "id": "8d4e1cf8",
   "metadata": {},
   "outputs": [
    {
     "name": "stdout",
     "output_type": "stream",
     "text": [
      "(442, 10)\n",
      "(442,)\n",
      "(442, 10)\n",
      "(442,)\n"
     ]
    }
   ],
   "source": [
    "print(x_data.shape)\n",
    "print(y_data.shape)\n",
    "\n",
    "print(df_X.shape)\n",
    "print(df_y.shape)"
   ]
  },
  {
   "cell_type": "code",
   "execution_count": 5,
   "id": "b1350cac",
   "metadata": {},
   "outputs": [
    {
     "name": "stdout",
     "output_type": "stream",
     "text": [
      "feature 1 : age\n",
      "feature 2 : sex\n",
      "feature 3 : bmi\n",
      "feature 4 : bp\n",
      "feature 5 : s1\n",
      "feature 6 : s2\n",
      "feature 7 : s3\n",
      "feature 8 : s4\n",
      "feature 9 : s5\n",
      "feature 10 : s6\n"
     ]
    }
   ],
   "source": [
    "# 데이터 탐색용\n",
    "\n",
    "for i, feature_name in enumerate(diabetes.feature_names):\n",
    "    print(f'feature {i+1} : {feature_name}')"
   ]
  },
  {
   "cell_type": "code",
   "execution_count": 6,
   "id": "91f05451",
   "metadata": {},
   "outputs": [
    {
     "name": "stdout",
     "output_type": "stream",
     "text": [
      "<x_data[0]> :  [ 0.03807591  0.05068012  0.06169621  0.02187235 -0.0442235  -0.03482076\n",
      " -0.04340085 -0.00259226  0.01990842 -0.01764613]\n",
      "\n",
      "<y_data[0]> :  151.0\n"
     ]
    }
   ],
   "source": [
    "print('<x_data[0]> : ',x_data[0])\n",
    "print()\n",
    "print('<y_data[0]> : ',y_data[0])"
   ]
  },
  {
   "cell_type": "code",
   "execution_count": 7,
   "id": "6f469414",
   "metadata": {},
   "outputs": [],
   "source": [
    "class MultiLinear:\n",
    "  def __init__(self,learning_rate=0.001):\n",
    "    self.w=None #모델의 weight 벡터 self.w=(w_1,w_2)\n",
    "    self.b=None #모델의 bias\n",
    "    self.lr=learning_rate #모델의 학습률\n",
    "    self.losses=[] #매 에포크마다 손실을 저장하기 위한 리스트\n",
    "    self.weight_history=[] #매 에포크마다 계산된 weight를 저장하기 위한 리스트\n",
    "    self.bias_history=[] #매 에포크마다 계산된 bias를 저장하기 위한 리스트\n",
    "\n",
    "  def forward(self,x):\n",
    "    y_pred=np.sum(x*self.w)+self.b #np.sum함수는 인자로 받은 numpy배열의 모든 원소의 합을 return합니다.\n",
    "    return y_pred\n",
    "\n",
    "  def loss(self,x,y):\n",
    "    y_pred=self.forward(x)\n",
    "    return (y_pred-y)**2\n",
    "\n",
    "  def gradient(self,x,y):\n",
    "    y_pred=self.forward(x)\n",
    "    w_grad=2*x*(y_pred-y)\n",
    "    b_grad=2*(y_pred-y)\n",
    "\n",
    "    return w_grad,b_grad\n",
    "\n",
    "  def fit(self,x_data,y_data,epochs=20):\n",
    "    self.w=np.ones(x_data.shape[1]) #모델의 weight들을 전부 1로 초기화\n",
    "    self.b=0 #모델의 bias를 0으로 초기화\n",
    "    for epoch in range(epochs):\n",
    "      l=0 #계산할 손실값\n",
    "      w_grad=np.zeros(x_data.shape[1]) #weight의 기울기를 누적할 numpy배열\n",
    "      b_grad=0  #bias의 기울기를 누적할 변수\n",
    "\n",
    "      for x,y in zip(x_data,y_data):\n",
    "        l+=self.loss(x,y)\n",
    "        w_i,b_i=self.gradient(x,y)\n",
    "\n",
    "        w_grad+=w_i #weight누적\n",
    "        b_grad+=b_i #bias누적\n",
    "\n",
    "      self.w-=self.lr*(w_grad/len(y_data)) #weight 업데이트\n",
    "      self.b-=self.lr*(b_grad/len(y_data)) #bias 업데이트\n",
    " \n",
    "      print(f'epoch ({epoch+1}) ===> loss : {l/len(y_data):.5f}')\n",
    "      self.losses.append(l/len(y_data)) #손실값 저장\n",
    "      self.weight_history.append(self.w) #weight 배열 저장\n",
    "      self.bias_history.append(self.b) #bias값 저장"
   ]
  },
  {
   "cell_type": "code",
   "execution_count": 43,
   "id": "8e89c22d",
   "metadata": {},
   "outputs": [
    {
     "name": "stdout",
     "output_type": "stream",
     "text": [
      "epoch (1) ===> loss : 29055.28756\n",
      "epoch (2) ===> loss : 20715.48312\n",
      "epoch (3) ===> loss : 15375.24358\n",
      "epoch (4) ===> loss : 11954.73452\n",
      "epoch (5) ===> loss : 9762.86190\n",
      "epoch (6) ===> loss : 8357.32549\n",
      "epoch (7) ===> loss : 7455.05312\n",
      "epoch (8) ===> loss : 6874.87857\n",
      "epoch (9) ===> loss : 6500.85541\n",
      "epoch (10) ===> loss : 6258.77792\n",
      "epoch (11) ===> loss : 6101.15439\n",
      "epoch (12) ===> loss : 5997.59010\n",
      "epoch (13) ===> loss : 5928.63241\n",
      "epoch (14) ===> loss : 5881.83158\n",
      "epoch (15) ===> loss : 5849.21975\n",
      "epoch (16) ===> loss : 5825.69748\n",
      "epoch (17) ===> loss : 5808.00108\n",
      "epoch (18) ===> loss : 5794.04176\n",
      "epoch (19) ===> loss : 5782.48266\n",
      "epoch (20) ===> loss : 5772.46817\n",
      "epoch (21) ===> loss : 5763.45067\n",
      "epoch (22) ===> loss : 5755.07965\n",
      "epoch (23) ===> loss : 5747.13074\n",
      "epoch (24) ===> loss : 5739.46035\n",
      "epoch (25) ===> loss : 5731.97651\n",
      "epoch (26) ===> loss : 5724.62036\n",
      "epoch (27) ===> loss : 5717.35418\n",
      "epoch (28) ===> loss : 5710.15383\n",
      "epoch (29) ===> loss : 5703.00380\n",
      "epoch (30) ===> loss : 5695.89415\n",
      "epoch (31) ===> loss : 5688.81848\n",
      "epoch (32) ===> loss : 5681.77269\n",
      "epoch (33) ===> loss : 5674.75409\n",
      "epoch (34) ===> loss : 5667.76096\n",
      "epoch (35) ===> loss : 5660.79217\n",
      "epoch (36) ===> loss : 5653.84694\n",
      "epoch (37) ===> loss : 5646.92478\n",
      "epoch (38) ===> loss : 5640.02532\n",
      "epoch (39) ===> loss : 5633.14832\n",
      "epoch (40) ===> loss : 5626.29357\n"
     ]
    }
   ],
   "source": [
    "model = MultiLinear(learning_rate=0.1)\n",
    "model.fit(x_data,y_data,epochs=40)"
   ]
  },
  {
   "cell_type": "code",
   "execution_count": 55,
   "id": "1660f611",
   "metadata": {},
   "outputs": [],
   "source": [
    "#from sklearn.linear_model import LinearRegression\n",
    "\n",
    "#scikit-learn에서 제공하는 선형 회귀 모델\n",
    "#skmodel = LinearRegression()\n",
    "\n",
    "#model을 x와 y 데이터셋을 이용하여 학습시킴\n",
    "#skmodel.fit(x_data,y_data)\n",
    "\n",
    "#model이 'patient' 데이터에 대해 예측한 값을 array로 반환\n",
    "#skmodel.predict(patient)\n",
    "\n",
    "#testset에 대해 model의 정확도를 판단\n",
    "#skmodel.score(test_x,test_y)"
   ]
  },
  {
   "cell_type": "markdown",
   "id": "f312f659",
   "metadata": {},
   "source": [
    "## (2),(3) 모델에 입력할 데이터 준비하기\n"
   ]
  },
  {
   "cell_type": "code",
   "execution_count": 8,
   "id": "0eb6d52c",
   "metadata": {},
   "outputs": [],
   "source": [
    "# (2) 모델에 입력할 데이터 X 준비하기\n",
    "\n",
    "X = np.array(df_X)\n",
    "\n",
    "# (3) 모델에 입력할 데이터 y 준비하기\n",
    "\n",
    "y = np.array(df_y)"
   ]
  },
  {
   "cell_type": "markdown",
   "id": "628e73b5",
   "metadata": {},
   "source": [
    "## (4) train 데이터와 test 데이터로 분리하기"
   ]
  },
  {
   "cell_type": "code",
   "execution_count": 9,
   "id": "75f77610",
   "metadata": {},
   "outputs": [],
   "source": [
    "X_train, X_test, y_train, y_test = train_test_split(X, y, test_size=0.2, random_state=42)"
   ]
  },
  {
   "cell_type": "code",
   "execution_count": 10,
   "id": "722ab0f3",
   "metadata": {},
   "outputs": [
    {
     "name": "stdout",
     "output_type": "stream",
     "text": [
      "(353, 10) (353,)\n",
      "(89, 10) (89,)\n"
     ]
    }
   ],
   "source": [
    "print(X_train.shape, y_train.shape)\n",
    "print(X_test.shape, y_test.shape)"
   ]
  },
  {
   "cell_type": "markdown",
   "id": "0f00ae92",
   "metadata": {},
   "source": [
    "## (5) 모델 준비하기"
   ]
  },
  {
   "cell_type": "code",
   "execution_count": 11,
   "id": "7f2d090c",
   "metadata": {},
   "outputs": [],
   "source": [
    "W = np.random.randn(10)\n",
    "b = np.random.randn()    "
   ]
  },
  {
   "cell_type": "code",
   "execution_count": 12,
   "id": "0df2276a",
   "metadata": {},
   "outputs": [],
   "source": [
    "def model(X, W, b):\n",
    "    predictions = 0\n",
    "    for i in range(10):\n",
    "        predictions += X[:, i] * W[i]\n",
    "    predictions += b\n",
    "    return predictions"
   ]
  },
  {
   "cell_type": "markdown",
   "id": "8d62574a",
   "metadata": {},
   "source": [
    "## (6) 손실함수 loss 정의하기"
   ]
  },
  {
   "cell_type": "code",
   "execution_count": 13,
   "id": "8285f5a7",
   "metadata": {},
   "outputs": [],
   "source": [
    "# cost function: MSE\n",
    "\n",
    "def MSE(y_true, y_pred) :\n",
    "    cost = ((y_true - y_pred) ** 2)\n",
    "    return cost.mean()\n",
    "\n",
    "def loss(x, w, b, y) :\n",
    "    predictions = model(x,w,b)\n",
    "    L = MSE(predictions, y)\n",
    "    return L\n",
    "    "
   ]
  },
  {
   "cell_type": "code",
   "execution_count": 14,
   "id": "1b352e71",
   "metadata": {},
   "outputs": [],
   "source": [
    "# (7) 기울기 구하는 gradient 함수 구현\n",
    "\n",
    "def gradient(X, W, b, y) :\n",
    "    # 모델이 예측하는 데이터 포인트 개수\n",
    "    N = len(y)\n",
    "    \n",
    "    # y_pred\n",
    "    y_pred = model(X, W, b)\n",
    "    \n",
    "    # w의 gradient 계산\n",
    "    dW = 1/N * 2 * X.T.dot(y_pred - y)\n",
    "    \n",
    "    # b의 gradient 계산\n",
    "    db = 2 * (y_pred - y).mean()\n",
    "    return dW, db"
   ]
  },
  {
   "cell_type": "code",
   "execution_count": 15,
   "id": "d5e2115a",
   "metadata": {},
   "outputs": [
    {
     "name": "stdout",
     "output_type": "stream",
     "text": [
      "dW: [-1.36557086 -0.30889619 -4.27916789 -3.2211971  -1.54259436 -1.26353428\n",
      "  2.87412615 -3.1328834  -4.12629003 -2.78584561]\n",
      "db: -304.66603339867544\n"
     ]
    }
   ],
   "source": [
    "dW, db = gradient(X, W, b, y)\n",
    "print(\"dW:\", dW)\n",
    "print(\"db:\", db)"
   ]
  },
  {
   "cell_type": "code",
   "execution_count": 17,
   "id": "8f9c77aa",
   "metadata": {},
   "outputs": [],
   "source": [
    "# 하이퍼 파라미터 조정 : 학습률 설정\n",
    "\n",
    "# L_Rate = 0.0001 -> loss 4033\n",
    "# L_Rate = 0.000001  # loss 4030\n",
    "\n",
    "'''\n",
    "Thanks to 준범 !\n",
    "준범님 피드백 이후 수정하였음\n",
    "\n",
    "** 러닝 레이트는 처음에는 크게 잡고 시작 -> 이후 미세조정 해야 함\n",
    "why? 처음에는 크게크게 경사하강 해야 함\n",
    "'''\n",
    "L_Rate = 0.1\n"
   ]
  },
  {
   "cell_type": "code",
   "execution_count": 25,
   "id": "9c7c31c1",
   "metadata": {},
   "outputs": [
    {
     "name": "stdout",
     "output_type": "stream",
     "text": [
      "Iteratiton 10 : Loss 2880.0251\n",
      "Iteratiton 20 : Loss 2880.0241\n",
      "Iteratiton 30 : Loss 2880.0232\n",
      "Iteratiton 40 : Loss 2880.0222\n",
      "Iteratiton 50 : Loss 2880.0212\n",
      "Iteratiton 60 : Loss 2880.0203\n",
      "Iteratiton 70 : Loss 2880.0193\n",
      "Iteratiton 80 : Loss 2880.0184\n",
      "Iteratiton 90 : Loss 2880.0174\n",
      "Iteratiton 100 : Loss 2880.0164\n",
      "Iteratiton 110 : Loss 2880.0155\n",
      "Iteratiton 120 : Loss 2880.0145\n",
      "Iteratiton 130 : Loss 2880.0136\n",
      "Iteratiton 140 : Loss 2880.0126\n",
      "Iteratiton 150 : Loss 2880.0116\n",
      "Iteratiton 160 : Loss 2880.0107\n",
      "Iteratiton 170 : Loss 2880.0097\n",
      "Iteratiton 180 : Loss 2880.0088\n",
      "Iteratiton 190 : Loss 2880.0078\n",
      "Iteratiton 200 : Loss 2880.0069\n",
      "Iteratiton 210 : Loss 2880.0059\n",
      "Iteratiton 220 : Loss 2880.0049\n",
      "Iteratiton 230 : Loss 2880.0040\n",
      "Iteratiton 240 : Loss 2880.0030\n",
      "Iteratiton 250 : Loss 2880.0021\n",
      "Iteratiton 260 : Loss 2880.0011\n",
      "Iteratiton 270 : Loss 2880.0001\n",
      "Iteratiton 280 : Loss 2879.9992\n",
      "Iteratiton 290 : Loss 2879.9982\n",
      "Iteratiton 300 : Loss 2879.9973\n",
      "Iteratiton 310 : Loss 2879.9963\n",
      "Iteratiton 320 : Loss 2879.9954\n",
      "Iteratiton 330 : Loss 2879.9944\n",
      "Iteratiton 340 : Loss 2879.9934\n",
      "Iteratiton 350 : Loss 2879.9925\n",
      "Iteratiton 360 : Loss 2879.9915\n",
      "Iteratiton 370 : Loss 2879.9906\n",
      "Iteratiton 380 : Loss 2879.9896\n",
      "Iteratiton 390 : Loss 2879.9886\n",
      "Iteratiton 400 : Loss 2879.9877\n",
      "Iteratiton 410 : Loss 2879.9867\n",
      "Iteratiton 420 : Loss 2879.9858\n",
      "Iteratiton 430 : Loss 2879.9848\n",
      "Iteratiton 440 : Loss 2879.9839\n",
      "Iteratiton 450 : Loss 2879.9829\n",
      "Iteratiton 460 : Loss 2879.9819\n",
      "Iteratiton 470 : Loss 2879.9810\n",
      "Iteratiton 480 : Loss 2879.9800\n",
      "Iteratiton 490 : Loss 2879.9791\n",
      "Iteratiton 500 : Loss 2879.9781\n",
      "Iteratiton 510 : Loss 2879.9772\n",
      "Iteratiton 520 : Loss 2879.9762\n",
      "Iteratiton 530 : Loss 2879.9753\n",
      "Iteratiton 540 : Loss 2879.9743\n",
      "Iteratiton 550 : Loss 2879.9733\n",
      "Iteratiton 560 : Loss 2879.9724\n",
      "Iteratiton 570 : Loss 2879.9714\n",
      "Iteratiton 580 : Loss 2879.9705\n",
      "Iteratiton 590 : Loss 2879.9695\n",
      "Iteratiton 600 : Loss 2879.9686\n",
      "Iteratiton 610 : Loss 2879.9676\n",
      "Iteratiton 620 : Loss 2879.9667\n",
      "Iteratiton 630 : Loss 2879.9657\n",
      "Iteratiton 640 : Loss 2879.9647\n",
      "Iteratiton 650 : Loss 2879.9638\n",
      "Iteratiton 660 : Loss 2879.9628\n",
      "Iteratiton 670 : Loss 2879.9619\n",
      "Iteratiton 680 : Loss 2879.9609\n",
      "Iteratiton 690 : Loss 2879.9600\n",
      "Iteratiton 700 : Loss 2879.9590\n",
      "Iteratiton 710 : Loss 2879.9581\n",
      "Iteratiton 720 : Loss 2879.9571\n",
      "Iteratiton 730 : Loss 2879.9561\n",
      "Iteratiton 740 : Loss 2879.9552\n",
      "Iteratiton 750 : Loss 2879.9542\n",
      "Iteratiton 760 : Loss 2879.9533\n",
      "Iteratiton 770 : Loss 2879.9523\n",
      "Iteratiton 780 : Loss 2879.9514\n",
      "Iteratiton 790 : Loss 2879.9504\n",
      "Iteratiton 800 : Loss 2879.9495\n",
      "Iteratiton 810 : Loss 2879.9485\n",
      "Iteratiton 820 : Loss 2879.9476\n",
      "Iteratiton 830 : Loss 2879.9466\n",
      "Iteratiton 840 : Loss 2879.9456\n",
      "Iteratiton 850 : Loss 2879.9447\n",
      "Iteratiton 860 : Loss 2879.9437\n",
      "Iteratiton 870 : Loss 2879.9428\n",
      "Iteratiton 880 : Loss 2879.9418\n",
      "Iteratiton 890 : Loss 2879.9409\n",
      "Iteratiton 900 : Loss 2879.9399\n",
      "Iteratiton 910 : Loss 2879.9390\n",
      "Iteratiton 920 : Loss 2879.9380\n",
      "Iteratiton 930 : Loss 2879.9371\n",
      "Iteratiton 940 : Loss 2879.9361\n",
      "Iteratiton 950 : Loss 2879.9352\n",
      "Iteratiton 960 : Loss 2879.9342\n",
      "Iteratiton 970 : Loss 2879.9333\n",
      "Iteratiton 980 : Loss 2879.9323\n",
      "Iteratiton 990 : Loss 2879.9314\n",
      "Iteratiton 1000 : Loss 2879.9304\n",
      "Iteratiton 1010 : Loss 2879.9294\n",
      "Iteratiton 1020 : Loss 2879.9285\n",
      "Iteratiton 1030 : Loss 2879.9275\n",
      "Iteratiton 1040 : Loss 2879.9266\n",
      "Iteratiton 1050 : Loss 2879.9256\n",
      "Iteratiton 1060 : Loss 2879.9247\n",
      "Iteratiton 1070 : Loss 2879.9237\n",
      "Iteratiton 1080 : Loss 2879.9228\n",
      "Iteratiton 1090 : Loss 2879.9218\n",
      "Iteratiton 1100 : Loss 2879.9209\n",
      "Iteratiton 1110 : Loss 2879.9199\n",
      "Iteratiton 1120 : Loss 2879.9190\n",
      "Iteratiton 1130 : Loss 2879.9180\n",
      "Iteratiton 1140 : Loss 2879.9171\n",
      "Iteratiton 1150 : Loss 2879.9161\n",
      "Iteratiton 1160 : Loss 2879.9152\n",
      "Iteratiton 1170 : Loss 2879.9142\n",
      "Iteratiton 1180 : Loss 2879.9133\n",
      "Iteratiton 1190 : Loss 2879.9123\n",
      "Iteratiton 1200 : Loss 2879.9114\n",
      "Iteratiton 1210 : Loss 2879.9104\n",
      "Iteratiton 1220 : Loss 2879.9095\n",
      "Iteratiton 1230 : Loss 2879.9085\n",
      "Iteratiton 1240 : Loss 2879.9076\n",
      "Iteratiton 1250 : Loss 2879.9066\n",
      "Iteratiton 1260 : Loss 2879.9057\n",
      "Iteratiton 1270 : Loss 2879.9047\n",
      "Iteratiton 1280 : Loss 2879.9038\n",
      "Iteratiton 1290 : Loss 2879.9028\n",
      "Iteratiton 1300 : Loss 2879.9019\n",
      "Iteratiton 1310 : Loss 2879.9009\n",
      "Iteratiton 1320 : Loss 2879.9000\n",
      "Iteratiton 1330 : Loss 2879.8990\n",
      "Iteratiton 1340 : Loss 2879.8981\n",
      "Iteratiton 1350 : Loss 2879.8971\n",
      "Iteratiton 1360 : Loss 2879.8962\n",
      "Iteratiton 1370 : Loss 2879.8952\n",
      "Iteratiton 1380 : Loss 2879.8943\n",
      "Iteratiton 1390 : Loss 2879.8933\n",
      "Iteratiton 1400 : Loss 2879.8924\n",
      "Iteratiton 1410 : Loss 2879.8914\n",
      "Iteratiton 1420 : Loss 2879.8905\n",
      "Iteratiton 1430 : Loss 2879.8895\n",
      "Iteratiton 1440 : Loss 2879.8886\n",
      "Iteratiton 1450 : Loss 2879.8876\n",
      "Iteratiton 1460 : Loss 2879.8867\n",
      "Iteratiton 1470 : Loss 2879.8857\n",
      "Iteratiton 1480 : Loss 2879.8848\n",
      "Iteratiton 1490 : Loss 2879.8838\n",
      "Iteratiton 1500 : Loss 2879.8829\n",
      "Iteratiton 1510 : Loss 2879.8819\n",
      "Iteratiton 1520 : Loss 2879.8810\n",
      "Iteratiton 1530 : Loss 2879.8800\n",
      "Iteratiton 1540 : Loss 2879.8791\n",
      "Iteratiton 1550 : Loss 2879.8781\n",
      "Iteratiton 1560 : Loss 2879.8772\n",
      "Iteratiton 1570 : Loss 2879.8762\n",
      "Iteratiton 1580 : Loss 2879.8753\n",
      "Iteratiton 1590 : Loss 2879.8743\n",
      "Iteratiton 1600 : Loss 2879.8734\n",
      "Iteratiton 1610 : Loss 2879.8724\n",
      "Iteratiton 1620 : Loss 2879.8715\n",
      "Iteratiton 1630 : Loss 2879.8706\n",
      "Iteratiton 1640 : Loss 2879.8696\n",
      "Iteratiton 1650 : Loss 2879.8687\n",
      "Iteratiton 1660 : Loss 2879.8677\n",
      "Iteratiton 1670 : Loss 2879.8668\n",
      "Iteratiton 1680 : Loss 2879.8658\n",
      "Iteratiton 1690 : Loss 2879.8649\n",
      "Iteratiton 1700 : Loss 2879.8639\n",
      "Iteratiton 1710 : Loss 2879.8630\n",
      "Iteratiton 1720 : Loss 2879.8620\n",
      "Iteratiton 1730 : Loss 2879.8611\n",
      "Iteratiton 1740 : Loss 2879.8601\n",
      "Iteratiton 1750 : Loss 2879.8592\n",
      "Iteratiton 1760 : Loss 2879.8582\n",
      "Iteratiton 1770 : Loss 2879.8573\n",
      "Iteratiton 1780 : Loss 2879.8563\n",
      "Iteratiton 1790 : Loss 2879.8554\n",
      "Iteratiton 1800 : Loss 2879.8545\n",
      "Iteratiton 1810 : Loss 2879.8535\n",
      "Iteratiton 1820 : Loss 2879.8526\n",
      "Iteratiton 1830 : Loss 2879.8516\n",
      "Iteratiton 1840 : Loss 2879.8507\n",
      "Iteratiton 1850 : Loss 2879.8497\n",
      "Iteratiton 1860 : Loss 2879.8488\n",
      "Iteratiton 1870 : Loss 2879.8478\n",
      "Iteratiton 1880 : Loss 2879.8469\n",
      "Iteratiton 1890 : Loss 2879.8459\n",
      "Iteratiton 1900 : Loss 2879.8450\n",
      "Iteratiton 1910 : Loss 2879.8441\n",
      "Iteratiton 1920 : Loss 2879.8431\n",
      "Iteratiton 1930 : Loss 2879.8422\n",
      "Iteratiton 1940 : Loss 2879.8412\n",
      "Iteratiton 1950 : Loss 2879.8403\n",
      "Iteratiton 1960 : Loss 2879.8393\n",
      "Iteratiton 1970 : Loss 2879.8384\n",
      "Iteratiton 1980 : Loss 2879.8374\n",
      "Iteratiton 1990 : Loss 2879.8365\n",
      "Iteratiton 2000 : Loss 2879.8355\n"
     ]
    },
    {
     "data": {
      "image/png": "[encoded data removed]",
      "text/plain": [
       "<Figure size 432x288 with 1 Axes>"
      ]
     },
     "metadata": {
      "needs_background": "light"
     },
     "output_type": "display_data"
    }
   ],
   "source": [
    "losses = []  # loss 값 기록할 리스트 생성\n",
    "\n",
    "for i in range(1, 2001) :\n",
    "    dW, db = gradient(X_train, W, b, y_train)\n",
    "    W -= L_Rate * dW\n",
    "    b -= L_Rate * db\n",
    "    L = loss(X_train, W, b, y_train)\n",
    "    losses.append(L)\n",
    "    if i % 10 == 0 :\n",
    "        print('Iteratiton %d : Loss %0.4f' % (i, L))\n",
    "\n",
    "import matplotlib.pyplot as plt\n",
    "plt.plot(losses)\n",
    "plt.show()"
   ]
  },
  {
   "cell_type": "code",
   "execution_count": 26,
   "id": "45cb207c",
   "metadata": {},
   "outputs": [
    {
     "data": {
      "text/plain": [
       "2887.2487198362605"
      ]
     },
     "execution_count": 26,
     "metadata": {},
     "output_type": "execute_result"
    }
   ],
   "source": [
    "# (10) 테스트 데이터에 대한 성능 확인\n",
    "# cost function: MSE\n",
    "\n",
    "\n",
    "prediction = model(X_test, W, b)\n",
    "Loss = loss(X_test, W, b, y_test)\n",
    "Loss"
   ]
  },
  {
   "cell_type": "code",
   "execution_count": 27,
   "id": "f78cdd67",
   "metadata": {},
   "outputs": [
    {
     "data": {
      "image/png": "[encoded data removed]",
      "text/plain": [
       "<Figure size 432x288 with 1 Axes>"
      ]
     },
     "metadata": {
      "needs_background": "light"
     },
     "output_type": "display_data"
    }
   ],
   "source": [
    "plt.scatter(X_test[:, 0], y_test)\n",
    "plt.scatter(X_test[:, 0], prediction)\n",
    "plt.show()"
   ]
  },
  {
   "cell_type": "code",
   "execution_count": null,
   "id": "47e3098e",
   "metadata": {},
   "outputs": [],
   "source": []
  }
 ],
 "metadata": {
  "kernelspec": {
   "display_name": "Python 3 (ipykernel)",
   "language": "python",
   "name": "python3"
  },
  "language_info": {
   "codemirror_mode": {
    "name": "ipython",
    "version": 3
   },
   "file_extension": ".py",
   "mimetype": "text/x-python",
   "name": "python",
   "nbconvert_exporter": "python",
   "pygments_lexer": "ipython3",
   "version": "3.9.7"
  }
 },
 "nbformat": 4,
 "nbformat_minor": 5
}
